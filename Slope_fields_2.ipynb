{
 "cells": [
  {
   "cell_type": "code",
   "execution_count": 3,
   "metadata": {},
   "outputs": [],
   "source": [
    "import numpy as np\n",
    "import matplotlib.pyplot as plt\n",
    "import math\n",
    "from scipy import special"
   ]
  },
  {
   "cell_type": "code",
   "execution_count": 75,
   "metadata": {},
   "outputs": [],
   "source": [
    " def show_shape(patch):\n",
    "    ax=plt.gca()\n",
    "    ax.add_patch(patch)\n",
    "    plt.axis()\n"
   ]
  },
  {
   "cell_type": "markdown",
   "metadata": {},
   "source": [
    "## Slope Field"
   ]
  },
  {
   "cell_type": "code",
   "execution_count": 76,
   "metadata": {},
   "outputs": [],
   "source": [
    "sizeSl = 2\n",
    "stepSl = 1\n",
    "radiusSl = stepSl / 4"
   ]
  },
  {
   "cell_type": "code",
   "execution_count": 77,
   "metadata": {},
   "outputs": [],
   "source": [
    "def slopeField(foo, fooSet=None, additionalF=None, circles=None):\n",
    "    plt.axvline(x=0)\n",
    "    plt.axhline(y=0)\n",
    "    for t in np.arange(- sizeSl, sizeSl + radiusSl, stepSl):\n",
    "        for x in np.arange(- sizeSl, sizeSl + radiusSl, stepSl):\n",
    "            curGrad = foo(t, x)\n",
    "            if curGrad != None:\n",
    "                if abs(curGrad) < 1:\n",
    "                    plt.plot([t - radiusSl, t + radiusSl], [x - radiusSl  * curGrad, x + radiusSl * curGrad],  color = 'orange')\n",
    "                else:\n",
    "                    plt.plot([t - radiusSl * 1 / curGrad, t + radiusSl * 1 / curGrad], [x - radiusSl, x + radiusSl],  color = 'orange')\n",
    "    if fooSet != None:\n",
    "        for foo1 in fooSet:\n",
    "            newRange = np.arange(- sizeSl, sizeSl + radiusSl, 0.01)\n",
    "            plt.plot(newRange, foo1(newRange))\n",
    "    if additionalF != None:\n",
    "        intersect = np.arange(-sizeSl, sizeSl, 0.001)\n",
    "        plt.plot(intersect, additionalF(intersect), color=\"navy\")\n",
    "    if circles != None:\n",
    "        for i in circles:\n",
    "            for j in circles:\n",
    "                c = plt.Circle((i, j), radius= 0.1)\n",
    "                show_shape(c)\n",
    "    plt.xlabel('x')\n",
    "    plt.ylabel('y')\n",
    "    plt.grid(True)\n",
    "    plt.show()"
   ]
  },
  {
   "cell_type": "markdown",
   "metadata": {},
   "source": [
    "## Integral Curve"
   ]
  },
  {
   "cell_type": "code",
   "execution_count": 78,
   "metadata": {},
   "outputs": [],
   "source": [
    "sizeInt = 4\n",
    "stepInt = 0.003\n",
    "radiusInt = stepInt / 3"
   ]
  },
  {
   "cell_type": "code",
   "execution_count": 79,
   "metadata": {},
   "outputs": [],
   "source": [
    "def integralCurve(foo, t1, t2, requiredRange, stepInt):\n",
    "    colors = [\"maroon\", \"darkcyan\", \"forestgreen\", \"crimson\", \"orchid\"]\n",
    "    axes = plt.gca()\n",
    "    axes.set_ylim([-10, 10])\n",
    "    step = -1\n",
    "    for startPoint in requiredRange:\n",
    "        step += 1\n",
    "        x = startPoint\n",
    "        for t in np.arange(t1, t2, stepInt):\n",
    "            curGrad = foo(t, x)\n",
    "            plt.plot([t, t + stepInt], [x, x + stepInt * curGrad],  color = colors[step])\n",
    "            if abs(curGrad) > 1000.0:\n",
    "                break\n",
    "            x = x + stepInt * curGrad\n",
    "    \n",
    "    plt.xlabel('t')\n",
    "    plt.ylabel('x(t)')\n",
    "    plt.show()"
   ]
  },
  {
   "cell_type": "markdown",
   "metadata": {},
   "source": [
    "## Vector Field"
   ]
  },
  {
   "cell_type": "code",
   "execution_count": 80,
   "metadata": {},
   "outputs": [],
   "source": [
    "sizeVec = 3\n",
    "stepVec = 0.2"
   ]
  },
  {
   "cell_type": "code",
   "execution_count": 81,
   "metadata": {},
   "outputs": [],
   "source": [
    "def vectorField(foo, markVertHor=None):\n",
    "    axes = plt.gca()\n",
    "    axes.set_xlim([-2.5, 2.5]) \n",
    "    axes.set_ylim([-3, 3])\n",
    "    for x in np.arange(-sizeVec, sizeVec, stepVec):\n",
    "        for y in np.arange(-sizeVec, sizeVec, stepSl):\n",
    "            curVec = foo(x, y)\n",
    "            if markVertHor and (curVec[0] == 0 or curVec[1] == 0):\n",
    "                axes.arrow(x, y, x + curVec[0], y + curVec[1], head_width=0.15, head_length=0.3, fc='b', ec='y')\n",
    "            else:\n",
    "                axes.arrow(x, y, x + curVec[0], y + curVec[1], head_width=0.15, head_length=0.3, fc='r', ec='k')\n",
    "            #plt.plot([x, x + curVec[0]], [y, y + curVec[1]], color = 'darkgreen')\n",
    "    plt.xlabel('x(t)')\n",
    "    plt.ylabel('y(t)')\n",
    "    plt.show()"
   ]
  },
  {
   "cell_type": "markdown",
   "metadata": {},
   "source": [
    "## Phase Path"
   ]
  },
  {
   "cell_type": "code",
   "execution_count": 94,
   "metadata": {},
   "outputs": [],
   "source": [
    "sizePhase = 4\n",
    "stepPhase = 50"
   ]
  },
  {
   "cell_type": "code",
   "execution_count": 83,
   "metadata": {},
   "outputs": [],
   "source": [
    "def phasePath(foo):\n",
    "    axes = plt.gca()\n",
    "    axes.set_xlim([-0.1, 4]) \n",
    "    axes.set_ylim([-7, 7])\n",
    "    interval = np.arange(0, sizePhase, 0.01)\n",
    "\n",
    "    for constant in np.arange(-20 * stepPhase, 20 * stepPhase, stepPhase):\n",
    "        plt.plot(interval, foo(interval) + constant, color = 'orange')\n",
    "\n",
    "    plt.axvline(x=0)\n",
    "    plt.xlabel('x(t)')\n",
    "    plt.ylabel('y(t)')\n",
    "    plt.show()"
   ]
  },
  {
   "cell_type": "markdown",
   "metadata": {},
   "source": [
    "## Function"
   ]
  },
  {
   "cell_type": "code",
   "execution_count": 104,
   "metadata": {},
   "outputs": [],
   "source": [
    "def graph1(foo1):\n",
    "    interval = np.arange(-10, 10, 0.01)\n",
    "    plt.plot(interval, foo1(interval), color = 'navy', label='H(x, y_0)')\n",
    "    for constant in np.arange(-5 * stepPhase - 20, 5 * stepPhase, stepPhase):\n",
    "        plt.plot(interval, foo1(interval) + constant, color = 'orange')\n",
    "    plt.legend()\n",
    "    plt.show()"
   ]
  },
  {
   "cell_type": "code",
   "execution_count": 85,
   "metadata": {},
   "outputs": [],
   "source": [
    "def graph2(foo1, foo2):\n",
    "    axes = plt.gca()\n",
    "    axes.set_ylim([-7, 7])\n",
    "    interval = np.arange(-5, 5, 0.01)\n",
    "    plt.plot(interval, foo1(interval), color = 'orange', label='H(x, y_0)')\n",
    "    plt.plot(interval, foo2(interval), color = 'lightgreen', label='H(x_0, y)')\n",
    "    \n",
    "    plt.legend()\n",
    "    plt.show()"
   ]
  },
  {
   "cell_type": "markdown",
   "metadata": {},
   "source": [
    "### Task 1"
   ]
  },
  {
   "cell_type": "code",
   "execution_count": 87,
   "metadata": {},
   "outputs": [
    {
     "data": {
      "image/png": "[encoded data removed]",
      "text/plain": [
       "<Figure size 432x288 with 1 Axes>"
      ]
     },
     "metadata": {
      "needs_background": "light"
     },
     "output_type": "display_data"
    }
   ],
   "source": [
    "def foo(x, y):\n",
    "    k = -5/4\n",
    "    return k\n",
    "slopeField(foo, circles=range(-2, 3))"
   ]
  },
  {
   "cell_type": "code",
   "execution_count": 93,
   "metadata": {},
   "outputs": [
    {
     "name": "stderr",
     "output_type": "stream",
     "text": [
      "/home/pavlk/.local/lib/python3.5/site-packages/ipykernel_launcher.py:4: RuntimeWarning: divide by zero encountered in double_scalars\n",
      "  after removing the cwd from sys.path.\n"
     ]
    },
    {
     "data": {
      "image/png": "[encoded data removed]",
      "text/plain": [
       "<Figure size 432x288 with 1 Axes>"
      ]
     },
     "metadata": {
      "needs_background": "light"
     },
     "output_type": "display_data"
    }
   ],
   "source": [
    "def foo(x, y):\n",
    "    if y == 0 and x == 0:\n",
    "        return None\n",
    "    k = -x/y\n",
    "    return k\n",
    "slopeField(foo, circles=range(-2, 3))"
   ]
  },
  {
   "cell_type": "code",
   "execution_count": 92,
   "metadata": {},
   "outputs": [
    {
     "name": "stderr",
     "output_type": "stream",
     "text": [
      "/home/pavlk/.local/lib/python3.5/site-packages/ipykernel_launcher.py:4: RuntimeWarning: divide by zero encountered in double_scalars\n",
      "  after removing the cwd from sys.path.\n"
     ]
    },
    {
     "data": {
      "image/png": "[encoded data removed]",
      "text/plain": [
       "<Figure size 432x288 with 1 Axes>"
      ]
     },
     "metadata": {
      "needs_background": "light"
     },
     "output_type": "display_data"
    }
   ],
   "source": [
    "def foo(x, y):\n",
    "    if x == 0 and y == 0:\n",
    "        return None\n",
    "    k = 2 * y / x / 3\n",
    "    return k\n",
    "slopeField(foo, circles=range(-2, 3))"
   ]
  },
  {
   "cell_type": "code",
   "execution_count": 94,
   "metadata": {},
   "outputs": [
    {
     "name": "stderr",
     "output_type": "stream",
     "text": [
      "/home/pavlk/.local/lib/python3.5/site-packages/ipykernel_launcher.py:4: RuntimeWarning: divide by zero encountered in double_scalars\n",
      "  after removing the cwd from sys.path.\n"
     ]
    },
    {
     "data": {
      "image/png": "[encoded data removed]",
      "text/plain": [
       "<Figure size 432x288 with 1 Axes>"
      ]
     },
     "metadata": {
      "needs_background": "light"
     },
     "output_type": "display_data"
    }
   ],
   "source": [
    "def foo(x, y):\n",
    "    if x == 0 and y == 0:\n",
    "        return None\n",
    "    k = -3 * y / x / 2\n",
    "    return k\n",
    "slopeField(foo, circles=range(-2, 3))"
   ]
  },
  {
   "cell_type": "markdown",
   "metadata": {},
   "source": [
    "### Task 2"
   ]
  },
  {
   "cell_type": "code",
   "execution_count": 83,
   "metadata": {},
   "outputs": [
    {
     "data": {
      "image/png": "[encoded data removed]",
      "text/plain": [
       "<Figure size 432x288 with 1 Axes>"
      ]
     },
     "metadata": {
      "needs_background": "light"
     },
     "output_type": "display_data"
    }
   ],
   "source": [
    "def foo(x, y):\n",
    "    k = -5/4\n",
    "    return k\n",
    "slopeField(foo, circles=range(-2, 3))"
   ]
  },
  {
   "cell_type": "code",
   "execution_count": 84,
   "metadata": {},
   "outputs": [
    {
     "data": {
      "image/png": "[encoded data removed]",
      "text/plain": [
       "<Figure size 432x288 with 1 Axes>"
      ]
     },
     "metadata": {
      "needs_background": "light"
     },
     "output_type": "display_data"
    }
   ],
   "source": [
    "def foo(x, y):\n",
    "    if y == 0:\n",
    "        return None\n",
    "    k = -x/y\n",
    "    return k\n",
    "slopeField(foo, circles=range(-2, 3))"
   ]
  },
  {
   "cell_type": "code",
   "execution_count": 85,
   "metadata": {},
   "outputs": [
    {
     "data": {
      "image/png": "[encoded data removed]",
      "text/plain": [
       "<Figure size 432x288 with 1 Axes>"
      ]
     },
     "metadata": {
      "needs_background": "light"
     },
     "output_type": "display_data"
    }
   ],
   "source": [
    "def foo(x, y):\n",
    "    if x == 0:\n",
    "        return None\n",
    "    k = 2 * y / x / 3\n",
    "    return k\n",
    "slopeField(foo, circles=range(-2, 3))"
   ]
  },
  {
   "cell_type": "code",
   "execution_count": 86,
   "metadata": {},
   "outputs": [
    {
     "data": {
      "image/png": "[encoded data removed]",
      "text/plain": [
       "<Figure size 432x288 with 1 Axes>"
      ]
     },
     "metadata": {
      "needs_background": "light"
     },
     "output_type": "display_data"
    }
   ],
   "source": [
    "def foo(x, y):\n",
    "    if x == 0:\n",
    "        return None\n",
    "    k = -3 * y / x / 2\n",
    "    return k\n",
    "slopeField(foo, circles=range(-2, 3))"
   ]
  },
  {
   "cell_type": "markdown",
   "metadata": {},
   "source": [
    "### Task 3"
   ]
  },
  {
   "cell_type": "markdown",
   "metadata": {},
   "source": [
    "#### b"
   ]
  },
  {
   "cell_type": "code",
   "execution_count": 115,
   "metadata": {},
   "outputs": [
    {
     "data": {
      "image/png": "[encoded data removed]",
      "text/plain": [
       "<Figure size 432x288 with 1 Axes>"
      ]
     },
     "metadata": {
      "needs_background": "light"
     },
     "output_type": "display_data"
    }
   ],
   "source": [
    "def foo(x, y): \n",
    "    return 0.5 * x - 3 * x * y, -4 * y + 1 * x * y\n",
    "vectorField(foo, markVertHor=True)"
   ]
  },
  {
   "cell_type": "markdown",
   "metadata": {},
   "source": [
    "#### h"
   ]
  },
  {
   "cell_type": "code",
   "execution_count": 131,
   "metadata": {},
   "outputs": [
    {
     "data": {
      "image/png": "[encoded data removed]",
      "text/plain": [
       "<Figure size 432x288 with 1 Axes>"
      ]
     },
     "metadata": {
      "needs_background": "light"
     },
     "output_type": "display_data"
    }
   ],
   "source": [
    "def F(x):\n",
    "    return x - 4 * np.log(abs(x))\n",
    "def G(y):\n",
    "    return 3 * y - 0.5 * np.log(abs(y))\n",
    "def foo1(x):\n",
    "    return F(x) + G(0.1666666666666666666)\n",
    "def foo2(y):\n",
    "    return F(4) + G(y)\n",
    "graph2(foo1, foo2)"
   ]
  },
  {
   "cell_type": "markdown",
   "metadata": {},
   "source": [
    "#### i"
   ]
  },
  {
   "cell_type": "code",
   "execution_count": 70,
   "metadata": {},
   "outputs": [],
   "source": [
    "sizePhase = 10\n",
    "stepPhase = 0.3\n",
    "def phasePathLambert(foo):\n",
    "    axes = plt.gca()\n",
    "    axes.set_xlim([0, 10]) \n",
    "    axes.set_ylim([-1, 5])\n",
    "    interval = np.arange(-sizePhase, sizePhase, 0.01)\n",
    "\n",
    "    for constant in np.arange(0, 10 * stepPhase, stepPhase):\n",
    "        xrange = arange(0, 10, delta)\n",
    "        yrange = arange(-0.2, 5, delta)\n",
    "        X, Y = meshgrid(xrange, yrange)\n",
    "        plt.contour(X, Y, X - 4 * np.log(abs(X)) + 3 * Y - 0.5 * np.log(abs(Y)) - constant, [0])\n",
    "    #plt.plot(interval, 1/6 * special.lambertw(-6 * np.exp(2 * interval + constant) / interval ** 8), color = 'orange')\n",
    "\n",
    "    #plt.axvline(x=0)\n",
    "    plt.xlabel('x(t)')\n",
    "    plt.ylabel('y(t)')\n",
    "    c=plt.Circle((4, 1/6), radius= 0.1)\n",
    "    show_shape(c)\n",
    "    plt.grid(True)\n",
    "\n",
    "    plt.show()"
   ]
  },
  {
   "cell_type": "code",
   "execution_count": 71,
   "metadata": {},
   "outputs": [
    {
     "name": "stderr",
     "output_type": "stream",
     "text": [
      "/home/pavlk/.local/lib/python3.5/site-packages/ipykernel_launcher.py:13: RuntimeWarning: divide by zero encountered in log\n",
      "  del sys.path[0]\n"
     ]
    },
    {
     "data": {
      "image/png": "[encoded data removed]",
      "text/plain": [
       "<Figure size 432x288 with 1 Axes>"
      ]
     },
     "metadata": {
      "needs_background": "light"
     },
     "output_type": "display_data"
    }
   ],
   "source": [
    "phasePathLambert(None)"
   ]
  },
  {
   "cell_type": "markdown",
   "metadata": {},
   "source": [
    "### blue circle is  constant solution"
   ]
  },
  {
   "cell_type": "markdown",
   "metadata": {},
   "source": [
    "# Task 5"
   ]
  },
  {
   "cell_type": "code",
   "execution_count": 107,
   "metadata": {},
   "outputs": [],
   "source": [
    "G = 6.67408 * 10**(-11) # C-system of metrics.\n",
    "r = 6371\n",
    "deltaT = 1"
   ]
  },
  {
   "cell_type": "markdown",
   "metadata": {},
   "source": [
    "## Theory:\n",
    "Power then velocity then coordinate"
   ]
  },
  {
   "cell_type": "markdown",
   "metadata": {},
   "source": [
    "### Координаты для набора планет и спутника"
   ]
  },
  {
   "cell_type": "code",
   "execution_count": 41,
   "metadata": {},
   "outputs": [],
   "source": [
    "def trip(CurVx, CurVy, CurX, CurY, mPlanet, mSatel, planets, time, nPlanets):\n",
    "    curX = CurX\n",
    "    curY = CurY\n",
    "    curVx = CurVx\n",
    "    curVy = CurVy\n",
    "    iters = time // deltaT\n",
    "    resX = []\n",
    "    resY = []\n",
    "    for i in range(int(iters)):\n",
    "        powX = 0\n",
    "        powY = 0\n",
    "        Pow = 0\n",
    "        for j in range(nPlanets):\n",
    "            sqDist = (curX - planets[j][0]) ** 2 + (curY - planets[j][1]) ** 2\n",
    "            Pow += G * mPlanet * mSatel / sqDist\n",
    "            signX = 1\n",
    "            if curX - planets[j][0] > 0:\n",
    "                signX = -1\n",
    "            signY = 1\n",
    "            if curY - planets[j][0] > 0:\n",
    "                signY = -1\n",
    "            powX += signX * Pow * (curX - planets[j][0]) ** 2 / sqDist\n",
    "            powY += signY * Pow * (curY - planets[j][1]) ** 2 / sqDist\n",
    "            #print(powX, powY, sqDist)\n",
    "            #print(curVx, curVy, curX, curY)\n",
    "        #print()\n",
    "        curVx += powX / mSatel\n",
    "        curVy += powY / mSatel\n",
    "        curX += deltaT * curVx\n",
    "        curY += deltaT * curVy\n",
    "        resX.append(curX)\n",
    "        resY.append(curY)\n",
    "\n",
    "    return resX, resY"
   ]
  },
  {
   "cell_type": "code",
   "execution_count": 295,
   "metadata": {
    "scrolled": true
   },
   "outputs": [
    {
     "name": "stdout",
     "output_type": "stream",
     "text": [
      "Enter satelite coords:\n",
      "10000\n"
     ]
    },
    {
     "ename": "ValueError",
     "evalue": "not enough values to unpack (expected 2, got 1)",
     "output_type": "error",
     "traceback": [
      "\u001b[0;31m---------------------------------------------------------------------------\u001b[0m",
      "\u001b[0;31mValueError\u001b[0m                                Traceback (most recent call last)",
      "\u001b[0;32m<ipython-input-295-10a795f816c3>\u001b[0m in \u001b[0;36m<module>\u001b[0;34m\u001b[0m\n\u001b[1;32m      1\u001b[0m \u001b[0mprint\u001b[0m\u001b[0;34m(\u001b[0m\u001b[0;34m\"Enter satelite coords:\"\u001b[0m\u001b[0;34m)\u001b[0m\u001b[0;34m\u001b[0m\u001b[0m\n\u001b[0;32m----> 2\u001b[0;31m \u001b[0mxSatel\u001b[0m\u001b[0;34m,\u001b[0m \u001b[0mySatel\u001b[0m \u001b[0;34m=\u001b[0m \u001b[0mlist\u001b[0m\u001b[0;34m(\u001b[0m\u001b[0mmap\u001b[0m\u001b[0;34m(\u001b[0m\u001b[0mfloat\u001b[0m\u001b[0;34m,\u001b[0m \u001b[0minput\u001b[0m\u001b[0;34m(\u001b[0m\u001b[0;34m)\u001b[0m\u001b[0;34m.\u001b[0m\u001b[0msplit\u001b[0m\u001b[0;34m(\u001b[0m\u001b[0;34m)\u001b[0m\u001b[0;34m)\u001b[0m\u001b[0;34m)\u001b[0m\u001b[0;34m\u001b[0m\u001b[0m\n\u001b[0m\u001b[1;32m      3\u001b[0m \u001b[0;34m\u001b[0m\u001b[0m\n\u001b[1;32m      4\u001b[0m \u001b[0mprint\u001b[0m\u001b[0;34m(\u001b[0m\u001b[0;34m\"Enter satelite mass:\"\u001b[0m\u001b[0;34m)\u001b[0m\u001b[0;34m\u001b[0m\u001b[0m\n\u001b[1;32m      5\u001b[0m \u001b[0mmSatel\u001b[0m \u001b[0;34m=\u001b[0m \u001b[0mfloat\u001b[0m\u001b[0;34m(\u001b[0m\u001b[0minput\u001b[0m\u001b[0;34m(\u001b[0m\u001b[0;34m)\u001b[0m\u001b[0;34m)\u001b[0m\u001b[0;34m\u001b[0m\u001b[0m\n",
      "\u001b[0;31mValueError\u001b[0m: not enough values to unpack (expected 2, got 1)"
     ]
    }
   ],
   "source": [
    "print(\"Enter satelite coords:\")\n",
    "xSatel, ySatel = list(map(float, input().split()))\n",
    "\n",
    "print(\"Enter satelite mass:\")\n",
    "mSatel = float(input())\n",
    "\n",
    "print(\"Enter planets mass (equal for each one):\")\n",
    "mPlanet = float(input())\n",
    "\n",
    "print(\"Enter planets number\")\n",
    "nPlanets = int(input())\n",
    "planets = [[0, 0] for i in range(nPlanets)]\n",
    "for i in range(nPlanets):\n",
    "    print(\"Enter %d th plante's coords\" % (i + 1))\n",
    "    planets[i] = list(map(float, input().split()))\n",
    "\n",
    "_curX = xSatel\n",
    "_curY = ySatel\n",
    "\n",
    "print(\"Required time:\")\n",
    "time = int(input())\n",
    "_curVx = 0\n",
    "_curVy = 0\n",
    "\n",
    "res = trip(_curVx, _curVy, _curX, _curY, mPlanet, mSatel, planets, time, nPlanets)\n",
    "print(\"Destination point:\", res)"
   ]
  },
  {
   "cell_type": "markdown",
   "metadata": {},
   "source": [
    "#### a"
   ]
  },
  {
   "cell_type": "code",
   "execution_count": 42,
   "metadata": {
    "scrolled": true
   },
   "outputs": [
    {
     "name": "stdout",
     "output_type": "stream",
     "text": [
      "Required time:\n",
      "1000\n"
     ]
    }
   ],
   "source": [
    "xSatel, ySatel = r, 0\n",
    "\n",
    "mSatel = 10\n",
    "mPlanet = 9.81 / G * r * r\n",
    "nPlanets = 1\n",
    "\n",
    "planets = [[0, 0] for i in range(nPlanets)]\n",
    "\n",
    "_curX = xSatel\n",
    "_curY = ySatel\n",
    "\n",
    "print(\"Required time:\")\n",
    "time = int(input())\n",
    "_curVx = 0\n",
    "_curVy = 9\n",
    "\n",
    "resX, resY = trip(_curVx, _curVy, _curX, _curY, mPlanet, mSatel, planets, time, nPlanets)\n",
    "resX = np.asarray(resX)\n",
    "resY = np.asarray(resY)"
   ]
  },
  {
   "cell_type": "code",
   "execution_count": 43,
   "metadata": {},
   "outputs": [
    {
     "name": "stdout",
     "output_type": "stream",
     "text": [
      "[ 9.00000000e-04  1.80000000e-03  2.70000000e-03 ... -2.79637329e+07\n",
      " -2.79637357e+07 -2.79637385e+07] [ 6.37099902e+03  6.37099706e+03  6.37099411e+03 ... -1.70374391e+09\n",
      " -1.70374408e+09 -1.70374425e+09]\n"
     ]
    }
   ],
   "source": [
    "print(resY, resX)"
   ]
  },
  {
   "cell_type": "code",
   "execution_count": 44,
   "metadata": {},
   "outputs": [
    {
     "data": {
      "image/png": "[encoded data removed]",
      "text/plain": [
       "<Figure size 432x288 with 1 Axes>"
      ]
     },
     "metadata": {
      "needs_background": "light"
     },
     "output_type": "display_data"
    }
   ],
   "source": [
    "axes = plt.gca()\n",
    "axes.set_xlim([-10000, 10000])\n",
    "axes.set_ylim([-10000, 10000])\n",
    "plt.scatter(resX, resY, s=10)\n",
    "#print(i)\n",
    "plt.show()"
   ]
  },
  {
   "cell_type": "markdown",
   "metadata": {},
   "source": [
    "That's bad, imho we don't have enough accuracy near Earth center."
   ]
  },
  {
   "cell_type": "markdown",
   "metadata": {},
   "source": [
    "#### b"
   ]
  },
  {
   "cell_type": "code",
   "execution_count": 109,
   "metadata": {},
   "outputs": [],
   "source": [
    "def tripTest(CurVx, CurVy, CurX, CurY, mPlanet, mSatel, planets, time, nPlanets):\n",
    "    curX = CurX\n",
    "    curY = CurY\n",
    "    curVx = CurVx\n",
    "    curVy = CurVy\n",
    "    iters = time // deltaT\n",
    "    sqDistOld = 0\n",
    "    for i in range(int(iters)):\n",
    "        powX = 0\n",
    "        powY = 0\n",
    "        Pow = 0\n",
    "        for j in range(nPlanets):\n",
    "            sqDist = (curX - planets[j][0]) ** 2 + (curY - planets[j][1]) ** 2\n",
    "            if sqDistOld > sqDist:\n",
    "                print(\"NO!\")\n",
    "                return\n",
    "            sqDistOld = sqDist\n",
    "            Pow += G * mPlanet * mSatel / sqDist\n",
    "            signX = 1\n",
    "            if curX - planets[j][0] > 0:\n",
    "                signX = -1\n",
    "            signY = 1\n",
    "            if curY - planets[j][0] > 0:\n",
    "                signY = -1\n",
    "            powX += signX * Pow * (curX - planets[j][0]) ** 2 / sqDist\n",
    "            powY += signY * Pow * (curY - planets[j][1]) ** 2 / sqDist\n",
    "            #print(powX, powY, sqDist)\n",
    "            #print(curVx, curVy, curX, curY)\n",
    "        #print()\n",
    "        curVx += powX / mSatel\n",
    "        curVy += powY / mSatel\n",
    "        curX += deltaT * curVx\n",
    "        curY += deltaT * curVy\n",
    "    print(\"YES!\")\n",
    "    return "
   ]
  },
  {
   "cell_type": "code",
   "execution_count": 110,
   "metadata": {},
   "outputs": [
    {
     "name": "stdout",
     "output_type": "stream",
     "text": [
      "Required time:\n",
      "1000\n",
      "Does satelite with speed of 5 km/s fly away?\n",
      "NO!\n",
      "Does satelite with speed of 6 km/s fly away?\n",
      "NO!\n",
      "Does satelite with speed of 7 km/s fly away?\n",
      "NO!\n",
      "Does satelite with speed of 8 km/s fly away?\n",
      "NO!\n",
      "Does satelite with speed of 9 km/s fly away?\n",
      "NO!\n",
      "Does satelite with speed of 10 km/s fly away?\n",
      "NO!\n",
      "Does satelite with speed of 11 km/s fly away?\n",
      "NO!\n",
      "Does satelite with speed of 12 km/s fly away?\n",
      "NO!\n",
      "Does satelite with speed of 13 km/s fly away?\n",
      "NO!\n",
      "Does satelite with speed of 14 km/s fly away?\n",
      "NO!\n",
      "Does satelite with speed of 15 km/s fly away?\n",
      "NO!\n",
      "Does satelite with speed of 16 km/s fly away?\n",
      "NO!\n",
      "Does satelite with speed of 17 km/s fly away?\n",
      "NO!\n",
      "Does satelite with speed of 18 km/s fly away?\n",
      "NO!\n",
      "Does satelite with speed of 19 km/s fly away?\n",
      "NO!\n",
      "Does satelite with speed of 20 km/s fly away?\n",
      "NO!\n",
      "Does satelite with speed of 21 km/s fly away?\n",
      "NO!\n",
      "Does satelite with speed of 22 km/s fly away?\n",
      "NO!\n",
      "Does satelite with speed of 23 km/s fly away?\n",
      "NO!\n",
      "Does satelite with speed of 24 km/s fly away?\n",
      "NO!\n",
      "Does satelite with speed of 25 km/s fly away?\n",
      "NO!\n",
      "Does satelite with speed of 26 km/s fly away?\n",
      "NO!\n",
      "Does satelite with speed of 27 km/s fly away?\n",
      "NO!\n",
      "Does satelite with speed of 28 km/s fly away?\n",
      "NO!\n",
      "Does satelite with speed of 29 km/s fly away?\n",
      "NO!\n",
      "Does satelite with speed of 30 km/s fly away?\n",
      "NO!\n",
      "Does satelite with speed of 31 km/s fly away?\n",
      "NO!\n",
      "Does satelite with speed of 32 km/s fly away?\n",
      "NO!\n",
      "Does satelite with speed of 33 km/s fly away?\n",
      "NO!\n",
      "Does satelite with speed of 34 km/s fly away?\n",
      "NO!\n",
      "Does satelite with speed of 35 km/s fly away?\n",
      "NO!\n",
      "Does satelite with speed of 36 km/s fly away?\n",
      "NO!\n",
      "Does satelite with speed of 37 km/s fly away?\n",
      "NO!\n",
      "Does satelite with speed of 38 km/s fly away?\n",
      "NO!\n",
      "Does satelite with speed of 39 km/s fly away?\n",
      "NO!\n",
      "Does satelite with speed of 40 km/s fly away?\n",
      "NO!\n",
      "Does satelite with speed of 41 km/s fly away?\n",
      "NO!\n",
      "Does satelite with speed of 42 km/s fly away?\n",
      "NO!\n",
      "Does satelite with speed of 43 km/s fly away?\n",
      "NO!\n",
      "Does satelite with speed of 44 km/s fly away?\n",
      "NO!\n",
      "Does satelite with speed of 45 km/s fly away?\n",
      "NO!\n",
      "Does satelite with speed of 46 km/s fly away?\n",
      "NO!\n",
      "Does satelite with speed of 47 km/s fly away?\n",
      "NO!\n",
      "Does satelite with speed of 48 km/s fly away?\n",
      "NO!\n",
      "Does satelite with speed of 49 km/s fly away?\n",
      "NO!\n",
      "Does satelite with speed of 50 km/s fly away?\n",
      "NO!\n",
      "Does satelite with speed of 51 km/s fly away?\n",
      "NO!\n",
      "Does satelite with speed of 52 km/s fly away?\n",
      "NO!\n",
      "Does satelite with speed of 53 km/s fly away?\n",
      "NO!\n",
      "Does satelite with speed of 54 km/s fly away?\n",
      "NO!\n",
      "Does satelite with speed of 55 km/s fly away?\n",
      "NO!\n",
      "Does satelite with speed of 56 km/s fly away?\n",
      "NO!\n",
      "Does satelite with speed of 57 km/s fly away?\n",
      "NO!\n",
      "Does satelite with speed of 58 km/s fly away?\n",
      "NO!\n",
      "Does satelite with speed of 59 km/s fly away?\n",
      "NO!\n",
      "Does satelite with speed of 60 km/s fly away?\n",
      "NO!\n",
      "Does satelite with speed of 61 km/s fly away?\n",
      "NO!\n",
      "Does satelite with speed of 62 km/s fly away?\n",
      "NO!\n",
      "Does satelite with speed of 63 km/s fly away?\n",
      "NO!\n",
      "Does satelite with speed of 64 km/s fly away?\n",
      "NO!\n",
      "Does satelite with speed of 65 km/s fly away?\n",
      "NO!\n",
      "Does satelite with speed of 66 km/s fly away?\n",
      "NO!\n",
      "Does satelite with speed of 67 km/s fly away?\n",
      "NO!\n",
      "Does satelite with speed of 68 km/s fly away?\n",
      "NO!\n",
      "Does satelite with speed of 69 km/s fly away?\n",
      "NO!\n",
      "Does satelite with speed of 70 km/s fly away?\n",
      "NO!\n",
      "Does satelite with speed of 71 km/s fly away?\n",
      "NO!\n",
      "Does satelite with speed of 72 km/s fly away?\n",
      "NO!\n",
      "Does satelite with speed of 73 km/s fly away?\n",
      "NO!\n",
      "Does satelite with speed of 74 km/s fly away?\n",
      "NO!\n",
      "Does satelite with speed of 75 km/s fly away?\n",
      "NO!\n",
      "Does satelite with speed of 76 km/s fly away?\n",
      "NO!\n",
      "Does satelite with speed of 77 km/s fly away?\n",
      "NO!\n",
      "Does satelite with speed of 78 km/s fly away?\n",
      "NO!\n",
      "Does satelite with speed of 79 km/s fly away?\n",
      "NO!\n",
      "Does satelite with speed of 80 km/s fly away?\n",
      "NO!\n",
      "Does satelite with speed of 81 km/s fly away?\n",
      "NO!\n",
      "Does satelite with speed of 82 km/s fly away?\n",
      "NO!\n",
      "Does satelite with speed of 83 km/s fly away?\n",
      "NO!\n",
      "Does satelite with speed of 84 km/s fly away?\n",
      "NO!\n",
      "Does satelite with speed of 85 km/s fly away?\n",
      "NO!\n",
      "Does satelite with speed of 86 km/s fly away?\n",
      "NO!\n",
      "Does satelite with speed of 87 km/s fly away?\n",
      "NO!\n",
      "Does satelite with speed of 88 km/s fly away?\n",
      "NO!\n",
      "Does satelite with speed of 89 km/s fly away?\n",
      "NO!\n",
      "Does satelite with speed of 90 km/s fly away?\n",
      "NO!\n",
      "Does satelite with speed of 91 km/s fly away?\n",
      "NO!\n",
      "Does satelite with speed of 92 km/s fly away?\n",
      "NO!\n",
      "Does satelite with speed of 93 km/s fly away?\n",
      "NO!\n",
      "Does satelite with speed of 94 km/s fly away?\n",
      "NO!\n",
      "Does satelite with speed of 95 km/s fly away?\n",
      "NO!\n",
      "Does satelite with speed of 96 km/s fly away?\n",
      "NO!\n",
      "Does satelite with speed of 97 km/s fly away?\n",
      "NO!\n",
      "Does satelite with speed of 98 km/s fly away?\n",
      "NO!\n",
      "Does satelite with speed of 99 km/s fly away?\n",
      "NO!\n",
      "Does satelite with speed of 100 km/s fly away?\n",
      "NO!\n",
      "Does satelite with speed of 101 km/s fly away?\n",
      "NO!\n",
      "Does satelite with speed of 102 km/s fly away?\n",
      "NO!\n",
      "Does satelite with speed of 103 km/s fly away?\n",
      "NO!\n",
      "Does satelite with speed of 104 km/s fly away?\n",
      "NO!\n",
      "Does satelite with speed of 105 km/s fly away?\n",
      "NO!\n",
      "Does satelite with speed of 106 km/s fly away?\n",
      "NO!\n",
      "Does satelite with speed of 107 km/s fly away?\n",
      "NO!\n",
      "Does satelite with speed of 108 km/s fly away?\n",
      "NO!\n",
      "Does satelite with speed of 109 km/s fly away?\n",
      "NO!\n",
      "Does satelite with speed of 110 km/s fly away?\n",
      "NO!\n",
      "Does satelite with speed of 111 km/s fly away?\n",
      "NO!\n",
      "Does satelite with speed of 112 km/s fly away?\n",
      "NO!\n",
      "Does satelite with speed of 113 km/s fly away?\n",
      "NO!\n",
      "Does satelite with speed of 114 km/s fly away?\n",
      "NO!\n",
      "Does satelite with speed of 115 km/s fly away?\n",
      "NO!\n",
      "Does satelite with speed of 116 km/s fly away?\n",
      "NO!\n",
      "Does satelite with speed of 117 km/s fly away?\n",
      "NO!\n",
      "Does satelite with speed of 118 km/s fly away?\n",
      "NO!\n",
      "Does satelite with speed of 119 km/s fly away?\n",
      "NO!\n",
      "Does satelite with speed of 120 km/s fly away?\n",
      "NO!\n",
      "Does satelite with speed of 121 km/s fly away?\n",
      "NO!\n",
      "Does satelite with speed of 122 km/s fly away?\n",
      "NO!\n",
      "Does satelite with speed of 123 km/s fly away?\n",
      "NO!\n",
      "Does satelite with speed of 124 km/s fly away?\n",
      "NO!\n",
      "Does satelite with speed of 125 km/s fly away?\n",
      "NO!\n",
      "Does satelite with speed of 126 km/s fly away?\n",
      "NO!\n",
      "Does satelite with speed of 127 km/s fly away?\n",
      "NO!\n",
      "Does satelite with speed of 128 km/s fly away?\n",
      "NO!\n",
      "Does satelite with speed of 129 km/s fly away?\n",
      "NO!\n",
      "Does satelite with speed of 130 km/s fly away?\n",
      "NO!\n",
      "Does satelite with speed of 131 km/s fly away?\n",
      "NO!\n",
      "Does satelite with speed of 132 km/s fly away?\n",
      "NO!\n",
      "Does satelite with speed of 133 km/s fly away?\n",
      "NO!\n",
      "Does satelite with speed of 134 km/s fly away?\n",
      "NO!\n",
      "Does satelite with speed of 135 km/s fly away?\n",
      "NO!\n",
      "Does satelite with speed of 136 km/s fly away?\n",
      "NO!\n",
      "Does satelite with speed of 137 km/s fly away?\n",
      "NO!\n",
      "Does satelite with speed of 138 km/s fly away?\n",
      "NO!\n",
      "Does satelite with speed of 139 km/s fly away?\n",
      "NO!\n",
      "Does satelite with speed of 140 km/s fly away?\n",
      "NO!\n",
      "Does satelite with speed of 141 km/s fly away?\n",
      "NO!\n",
      "Does satelite with speed of 142 km/s fly away?\n",
      "NO!\n",
      "Does satelite with speed of 143 km/s fly away?\n",
      "NO!\n",
      "Does satelite with speed of 144 km/s fly away?\n",
      "NO!\n",
      "Does satelite with speed of 145 km/s fly away?\n",
      "NO!\n",
      "Does satelite with speed of 146 km/s fly away?\n",
      "NO!\n",
      "Does satelite with speed of 147 km/s fly away?\n",
      "NO!\n",
      "Does satelite with speed of 148 km/s fly away?\n",
      "NO!\n",
      "Does satelite with speed of 149 km/s fly away?\n",
      "NO!\n",
      "Does satelite with speed of 150 km/s fly away?\n",
      "NO!\n",
      "Does satelite with speed of 151 km/s fly away?\n",
      "NO!\n",
      "Does satelite with speed of 152 km/s fly away?\n",
      "NO!\n",
      "Does satelite with speed of 153 km/s fly away?\n",
      "NO!\n",
      "Does satelite with speed of 154 km/s fly away?\n",
      "NO!\n",
      "Does satelite with speed of 155 km/s fly away?\n",
      "NO!\n",
      "Does satelite with speed of 156 km/s fly away?\n",
      "NO!\n",
      "Does satelite with speed of 157 km/s fly away?\n",
      "NO!\n",
      "Does satelite with speed of 158 km/s fly away?\n",
      "NO!\n",
      "Does satelite with speed of 159 km/s fly away?\n",
      "NO!\n",
      "Does satelite with speed of 160 km/s fly away?\n",
      "NO!\n",
      "Does satelite with speed of 161 km/s fly away?\n",
      "NO!\n",
      "Does satelite with speed of 162 km/s fly away?\n",
      "NO!\n",
      "Does satelite with speed of 163 km/s fly away?\n",
      "NO!\n",
      "Does satelite with speed of 164 km/s fly away?\n",
      "NO!\n",
      "Does satelite with speed of 165 km/s fly away?\n",
      "NO!\n",
      "Does satelite with speed of 166 km/s fly away?\n",
      "NO!\n",
      "Does satelite with speed of 167 km/s fly away?\n",
      "NO!\n",
      "Does satelite with speed of 168 km/s fly away?\n",
      "NO!\n",
      "Does satelite with speed of 169 km/s fly away?\n",
      "NO!\n",
      "Does satelite with speed of 170 km/s fly away?\n",
      "NO!\n",
      "Does satelite with speed of 171 km/s fly away?\n",
      "NO!\n",
      "Does satelite with speed of 172 km/s fly away?\n",
      "NO!\n",
      "Does satelite with speed of 173 km/s fly away?\n",
      "NO!\n",
      "Does satelite with speed of 174 km/s fly away?\n",
      "NO!\n",
      "Does satelite with speed of 175 km/s fly away?\n",
      "NO!\n",
      "Does satelite with speed of 176 km/s fly away?\n",
      "NO!\n",
      "Does satelite with speed of 177 km/s fly away?\n",
      "NO!\n",
      "Does satelite with speed of 178 km/s fly away?\n",
      "NO!\n",
      "Does satelite with speed of 179 km/s fly away?\n",
      "NO!\n",
      "Does satelite with speed of 180 km/s fly away?\n",
      "NO!\n",
      "Does satelite with speed of 181 km/s fly away?\n",
      "NO!\n",
      "Does satelite with speed of 182 km/s fly away?\n",
      "NO!\n",
      "Does satelite with speed of 183 km/s fly away?\n",
      "NO!\n",
      "Does satelite with speed of 184 km/s fly away?\n",
      "NO!\n",
      "Does satelite with speed of 185 km/s fly away?\n",
      "NO!\n",
      "Does satelite with speed of 186 km/s fly away?\n",
      "NO!\n",
      "Does satelite with speed of 187 km/s fly away?\n",
      "NO!\n",
      "Does satelite with speed of 188 km/s fly away?\n",
      "NO!\n",
      "Does satelite with speed of 189 km/s fly away?\n",
      "NO!\n",
      "Does satelite with speed of 190 km/s fly away?\n",
      "NO!\n",
      "Does satelite with speed of 191 km/s fly away?\n",
      "NO!\n",
      "Does satelite with speed of 192 km/s fly away?\n",
      "NO!\n",
      "Does satelite with speed of 193 km/s fly away?\n",
      "NO!\n",
      "Does satelite with speed of 194 km/s fly away?\n",
      "NO!\n",
      "Does satelite with speed of 195 km/s fly away?\n",
      "NO!\n",
      "Does satelite with speed of 196 km/s fly away?\n",
      "NO!\n",
      "Does satelite with speed of 197 km/s fly away?\n",
      "NO!\n",
      "Does satelite with speed of 198 km/s fly away?\n",
      "NO!\n",
      "Does satelite with speed of 199 km/s fly away?\n",
      "NO!\n",
      "Does satelite with speed of 200 km/s fly away?\n",
      "NO!\n",
      "Does satelite with speed of 201 km/s fly away?\n",
      "NO!\n",
      "Does satelite with speed of 202 km/s fly away?\n",
      "NO!\n",
      "Does satelite with speed of 203 km/s fly away?\n",
      "NO!\n",
      "Does satelite with speed of 204 km/s fly away?\n",
      "NO!\n",
      "Does satelite with speed of 205 km/s fly away?\n",
      "NO!\n",
      "Does satelite with speed of 206 km/s fly away?\n",
      "NO!\n",
      "Does satelite with speed of 207 km/s fly away?\n",
      "NO!\n",
      "Does satelite with speed of 208 km/s fly away?\n",
      "NO!\n",
      "Does satelite with speed of 209 km/s fly away?\n",
      "NO!\n",
      "Does satelite with speed of 210 km/s fly away?\n",
      "NO!\n",
      "Does satelite with speed of 211 km/s fly away?\n",
      "NO!\n",
      "Does satelite with speed of 212 km/s fly away?\n",
      "NO!\n",
      "Does satelite with speed of 213 km/s fly away?\n",
      "NO!\n",
      "Does satelite with speed of 214 km/s fly away?\n",
      "NO!\n",
      "Does satelite with speed of 215 km/s fly away?\n",
      "NO!\n",
      "Does satelite with speed of 216 km/s fly away?\n",
      "NO!\n",
      "Does satelite with speed of 217 km/s fly away?\n",
      "NO!\n",
      "Does satelite with speed of 218 km/s fly away?\n",
      "NO!\n",
      "Does satelite with speed of 219 km/s fly away?\n",
      "NO!\n",
      "Does satelite with speed of 220 km/s fly away?\n",
      "NO!\n",
      "Does satelite with speed of 221 km/s fly away?\n",
      "NO!\n",
      "Does satelite with speed of 222 km/s fly away?\n",
      "NO!\n",
      "Does satelite with speed of 223 km/s fly away?\n",
      "NO!\n",
      "Does satelite with speed of 224 km/s fly away?\n",
      "NO!\n",
      "Does satelite with speed of 225 km/s fly away?\n",
      "NO!\n",
      "Does satelite with speed of 226 km/s fly away?\n",
      "NO!\n",
      "Does satelite with speed of 227 km/s fly away?\n",
      "NO!\n",
      "Does satelite with speed of 228 km/s fly away?\n",
      "NO!\n",
      "Does satelite with speed of 229 km/s fly away?\n",
      "NO!\n",
      "Does satelite with speed of 230 km/s fly away?\n",
      "NO!\n",
      "Does satelite with speed of 231 km/s fly away?\n",
      "NO!\n",
      "Does satelite with speed of 232 km/s fly away?\n",
      "NO!\n",
      "Does satelite with speed of 233 km/s fly away?\n",
      "NO!\n",
      "Does satelite with speed of 234 km/s fly away?\n",
      "NO!\n",
      "Does satelite with speed of 235 km/s fly away?\n",
      "NO!\n",
      "Does satelite with speed of 236 km/s fly away?\n",
      "NO!\n",
      "Does satelite with speed of 237 km/s fly away?\n",
      "NO!\n",
      "Does satelite with speed of 238 km/s fly away?\n",
      "NO!\n",
      "Does satelite with speed of 239 km/s fly away?\n",
      "NO!\n",
      "Does satelite with speed of 240 km/s fly away?\n",
      "NO!\n",
      "Does satelite with speed of 241 km/s fly away?\n",
      "NO!\n",
      "Does satelite with speed of 242 km/s fly away?\n",
      "NO!\n",
      "Does satelite with speed of 243 km/s fly away?\n",
      "NO!\n",
      "Does satelite with speed of 244 km/s fly away?\n",
      "NO!\n",
      "Does satelite with speed of 245 km/s fly away?\n",
      "NO!\n",
      "Does satelite with speed of 246 km/s fly away?\n",
      "NO!\n",
      "Does satelite with speed of 247 km/s fly away?\n",
      "NO!\n",
      "Does satelite with speed of 248 km/s fly away?\n",
      "NO!\n",
      "Does satelite with speed of 249 km/s fly away?\n",
      "NO!\n",
      "Does satelite with speed of 250 km/s fly away?\n",
      "NO!\n",
      "Does satelite with speed of 251 km/s fly away?\n",
      "NO!\n",
      "Does satelite with speed of 252 km/s fly away?\n",
      "NO!\n",
      "Does satelite with speed of 253 km/s fly away?\n",
      "NO!\n",
      "Does satelite with speed of 254 km/s fly away?\n",
      "NO!\n",
      "Does satelite with speed of 255 km/s fly away?\n",
      "NO!\n",
      "Does satelite with speed of 256 km/s fly away?\n",
      "NO!\n",
      "Does satelite with speed of 257 km/s fly away?\n",
      "NO!\n",
      "Does satelite with speed of 258 km/s fly away?\n",
      "NO!\n",
      "Does satelite with speed of 259 km/s fly away?\n",
      "NO!\n",
      "Does satelite with speed of 260 km/s fly away?\n",
      "NO!\n",
      "Does satelite with speed of 261 km/s fly away?\n",
      "NO!\n",
      "Does satelite with speed of 262 km/s fly away?\n",
      "NO!\n",
      "Does satelite with speed of 263 km/s fly away?\n",
      "NO!\n",
      "Does satelite with speed of 264 km/s fly away?\n",
      "NO!\n",
      "Does satelite with speed of 265 km/s fly away?\n",
      "NO!\n",
      "Does satelite with speed of 266 km/s fly away?\n",
      "NO!\n",
      "Does satelite with speed of 267 km/s fly away?\n",
      "NO!\n",
      "Does satelite with speed of 268 km/s fly away?\n",
      "NO!\n",
      "Does satelite with speed of 269 km/s fly away?\n",
      "NO!\n",
      "Does satelite with speed of 270 km/s fly away?\n",
      "NO!\n",
      "Does satelite with speed of 271 km/s fly away?\n",
      "NO!\n",
      "Does satelite with speed of 272 km/s fly away?\n",
      "NO!\n",
      "Does satelite with speed of 273 km/s fly away?\n",
      "NO!\n",
      "Does satelite with speed of 274 km/s fly away?\n",
      "NO!\n",
      "Does satelite with speed of 275 km/s fly away?\n",
      "NO!\n",
      "Does satelite with speed of 276 km/s fly away?\n",
      "NO!\n",
      "Does satelite with speed of 277 km/s fly away?\n",
      "NO!\n",
      "Does satelite with speed of 278 km/s fly away?\n",
      "NO!\n",
      "Does satelite with speed of 279 km/s fly away?\n",
      "NO!\n",
      "Does satelite with speed of 280 km/s fly away?\n",
      "NO!\n",
      "Does satelite with speed of 281 km/s fly away?\n",
      "NO!\n",
      "Does satelite with speed of 282 km/s fly away?\n",
      "NO!\n",
      "Does satelite with speed of 283 km/s fly away?\n",
      "NO!\n",
      "Does satelite with speed of 284 km/s fly away?\n",
      "NO!\n",
      "Does satelite with speed of 285 km/s fly away?\n",
      "NO!\n",
      "Does satelite with speed of 286 km/s fly away?\n",
      "NO!\n",
      "Does satelite with speed of 287 km/s fly away?\n",
      "NO!\n",
      "Does satelite with speed of 288 km/s fly away?\n",
      "NO!\n",
      "Does satelite with speed of 289 km/s fly away?\n",
      "NO!\n",
      "Does satelite with speed of 290 km/s fly away?\n",
      "NO!\n",
      "Does satelite with speed of 291 km/s fly away?\n",
      "NO!\n",
      "Does satelite with speed of 292 km/s fly away?\n",
      "NO!\n",
      "Does satelite with speed of 293 km/s fly away?\n",
      "NO!\n",
      "Does satelite with speed of 294 km/s fly away?\n",
      "NO!\n",
      "Does satelite with speed of 295 km/s fly away?\n",
      "NO!\n",
      "Does satelite with speed of 296 km/s fly away?\n",
      "NO!\n",
      "Does satelite with speed of 297 km/s fly away?\n",
      "NO!\n",
      "Does satelite with speed of 298 km/s fly away?\n",
      "NO!\n",
      "Does satelite with speed of 299 km/s fly away?\n",
      "NO!\n",
      "Does satelite with speed of 300 km/s fly away?\n",
      "NO!\n",
      "Does satelite with speed of 301 km/s fly away?\n",
      "NO!\n",
      "Does satelite with speed of 302 km/s fly away?\n",
      "NO!\n",
      "Does satelite with speed of 303 km/s fly away?\n",
      "NO!\n",
      "Does satelite with speed of 304 km/s fly away?\n",
      "NO!\n",
      "Does satelite with speed of 305 km/s fly away?\n",
      "NO!\n",
      "Does satelite with speed of 306 km/s fly away?\n",
      "NO!\n",
      "Does satelite with speed of 307 km/s fly away?\n",
      "NO!\n",
      "Does satelite with speed of 308 km/s fly away?\n",
      "NO!\n",
      "Does satelite with speed of 309 km/s fly away?\n",
      "NO!\n",
      "Does satelite with speed of 310 km/s fly away?\n",
      "NO!\n",
      "Does satelite with speed of 311 km/s fly away?\n",
      "NO!\n",
      "Does satelite with speed of 312 km/s fly away?\n",
      "NO!\n",
      "Does satelite with speed of 313 km/s fly away?\n",
      "NO!\n",
      "Does satelite with speed of 314 km/s fly away?\n",
      "NO!\n",
      "Does satelite with speed of 315 km/s fly away?\n",
      "NO!\n",
      "Does satelite with speed of 316 km/s fly away?\n",
      "NO!\n",
      "Does satelite with speed of 317 km/s fly away?\n",
      "NO!\n",
      "Does satelite with speed of 318 km/s fly away?\n",
      "NO!\n",
      "Does satelite with speed of 319 km/s fly away?\n",
      "NO!\n",
      "Does satelite with speed of 320 km/s fly away?\n",
      "NO!\n",
      "Does satelite with speed of 321 km/s fly away?\n",
      "NO!\n",
      "Does satelite with speed of 322 km/s fly away?\n",
      "NO!\n",
      "Does satelite with speed of 323 km/s fly away?\n",
      "NO!\n",
      "Does satelite with speed of 324 km/s fly away?\n",
      "NO!\n",
      "Does satelite with speed of 325 km/s fly away?\n",
      "NO!\n",
      "Does satelite with speed of 326 km/s fly away?\n",
      "NO!\n",
      "Does satelite with speed of 327 km/s fly away?\n",
      "NO!\n",
      "Does satelite with speed of 328 km/s fly away?\n",
      "NO!\n",
      "Does satelite with speed of 329 km/s fly away?\n",
      "NO!\n",
      "Does satelite with speed of 330 km/s fly away?\n",
      "NO!\n",
      "Does satelite with speed of 331 km/s fly away?\n",
      "NO!\n",
      "Does satelite with speed of 332 km/s fly away?\n",
      "NO!\n",
      "Does satelite with speed of 333 km/s fly away?\n",
      "NO!\n",
      "Does satelite with speed of 334 km/s fly away?\n",
      "NO!\n",
      "Does satelite with speed of 335 km/s fly away?\n",
      "NO!\n",
      "Does satelite with speed of 336 km/s fly away?\n",
      "NO!\n",
      "Does satelite with speed of 337 km/s fly away?\n",
      "NO!\n",
      "Does satelite with speed of 338 km/s fly away?\n",
      "NO!\n",
      "Does satelite with speed of 339 km/s fly away?\n",
      "NO!\n",
      "Does satelite with speed of 340 km/s fly away?\n",
      "NO!\n",
      "Does satelite with speed of 341 km/s fly away?\n",
      "NO!\n",
      "Does satelite with speed of 342 km/s fly away?\n",
      "NO!\n",
      "Does satelite with speed of 343 km/s fly away?\n",
      "NO!\n",
      "Does satelite with speed of 344 km/s fly away?\n",
      "NO!\n",
      "Does satelite with speed of 345 km/s fly away?\n",
      "NO!\n",
      "Does satelite with speed of 346 km/s fly away?\n",
      "NO!\n",
      "Does satelite with speed of 347 km/s fly away?\n",
      "NO!\n",
      "Does satelite with speed of 348 km/s fly away?\n",
      "NO!\n",
      "Does satelite with speed of 349 km/s fly away?\n",
      "NO!\n",
      "Does satelite with speed of 350 km/s fly away?\n",
      "NO!\n",
      "Does satelite with speed of 351 km/s fly away?\n",
      "NO!\n",
      "Does satelite with speed of 352 km/s fly away?\n",
      "NO!\n",
      "Does satelite with speed of 353 km/s fly away?\n",
      "NO!\n",
      "Does satelite with speed of 354 km/s fly away?\n",
      "YES!\n",
      "Does satelite with speed of 355 km/s fly away?\n",
      "YES!\n",
      "Does satelite with speed of 356 km/s fly away?\n",
      "YES!\n",
      "Does satelite with speed of 357 km/s fly away?\n",
      "YES!\n",
      "Does satelite with speed of 358 km/s fly away?\n",
      "YES!\n",
      "Does satelite with speed of 359 km/s fly away?\n",
      "YES!\n",
      "Does satelite with speed of 360 km/s fly away?\n",
      "YES!\n",
      "Does satelite with speed of 361 km/s fly away?\n",
      "YES!\n",
      "Does satelite with speed of 362 km/s fly away?\n",
      "YES!\n",
      "Does satelite with speed of 363 km/s fly away?\n",
      "YES!\n",
      "Does satelite with speed of 364 km/s fly away?\n",
      "YES!\n",
      "Does satelite with speed of 365 km/s fly away?\n",
      "YES!\n",
      "Does satelite with speed of 366 km/s fly away?\n",
      "YES!\n",
      "Does satelite with speed of 367 km/s fly away?\n",
      "YES!\n",
      "Does satelite with speed of 368 km/s fly away?\n",
      "YES!\n",
      "Does satelite with speed of 369 km/s fly away?\n",
      "YES!\n",
      "Does satelite with speed of 370 km/s fly away?\n",
      "YES!\n",
      "Does satelite with speed of 371 km/s fly away?\n",
      "YES!\n",
      "Does satelite with speed of 372 km/s fly away?\n",
      "YES!\n",
      "Does satelite with speed of 373 km/s fly away?\n",
      "YES!\n",
      "Does satelite with speed of 374 km/s fly away?\n",
      "YES!\n",
      "Does satelite with speed of 375 km/s fly away?\n",
      "YES!\n",
      "Does satelite with speed of 376 km/s fly away?\n",
      "YES!\n",
      "Does satelite with speed of 377 km/s fly away?\n",
      "YES!\n",
      "Does satelite with speed of 378 km/s fly away?\n",
      "YES!\n",
      "Does satelite with speed of 379 km/s fly away?\n",
      "YES!\n",
      "Does satelite with speed of 380 km/s fly away?\n",
      "YES!\n",
      "Does satelite with speed of 381 km/s fly away?\n",
      "YES!\n",
      "Does satelite with speed of 382 km/s fly away?\n",
      "YES!\n",
      "Does satelite with speed of 383 km/s fly away?\n",
      "YES!\n",
      "Does satelite with speed of 384 km/s fly away?\n",
      "YES!\n",
      "Does satelite with speed of 385 km/s fly away?\n",
      "YES!\n",
      "Does satelite with speed of 386 km/s fly away?\n",
      "YES!\n",
      "Does satelite with speed of 387 km/s fly away?\n",
      "YES!\n",
      "Does satelite with speed of 388 km/s fly away?\n",
      "YES!\n",
      "Does satelite with speed of 389 km/s fly away?\n",
      "YES!\n",
      "Does satelite with speed of 390 km/s fly away?\n",
      "YES!\n",
      "Does satelite with speed of 391 km/s fly away?\n",
      "YES!\n",
      "Does satelite with speed of 392 km/s fly away?\n",
      "YES!\n",
      "Does satelite with speed of 393 km/s fly away?\n",
      "YES!\n",
      "Does satelite with speed of 394 km/s fly away?\n",
      "YES!\n",
      "Does satelite with speed of 395 km/s fly away?\n",
      "YES!\n",
      "Does satelite with speed of 396 km/s fly away?\n",
      "YES!\n",
      "Does satelite with speed of 397 km/s fly away?\n",
      "YES!\n",
      "Does satelite with speed of 398 km/s fly away?\n",
      "YES!\n",
      "Does satelite with speed of 399 km/s fly away?\n",
      "YES!\n",
      "Does satelite with speed of 400 km/s fly away?\n",
      "YES!\n",
      "Does satelite with speed of 401 km/s fly away?\n",
      "YES!\n",
      "Does satelite with speed of 402 km/s fly away?\n",
      "YES!\n",
      "Does satelite with speed of 403 km/s fly away?\n",
      "YES!\n",
      "Does satelite with speed of 404 km/s fly away?\n",
      "YES!\n",
      "Does satelite with speed of 405 km/s fly away?\n",
      "YES!\n",
      "Does satelite with speed of 406 km/s fly away?\n",
      "YES!\n",
      "Does satelite with speed of 407 km/s fly away?\n",
      "YES!\n",
      "Does satelite with speed of 408 km/s fly away?\n",
      "YES!\n",
      "Does satelite with speed of 409 km/s fly away?\n",
      "YES!\n",
      "Does satelite with speed of 410 km/s fly away?\n",
      "YES!\n",
      "Does satelite with speed of 411 km/s fly away?\n",
      "YES!\n",
      "Does satelite with speed of 412 km/s fly away?\n",
      "YES!\n",
      "Does satelite with speed of 413 km/s fly away?\n",
      "YES!\n",
      "Does satelite with speed of 414 km/s fly away?\n",
      "YES!\n",
      "Does satelite with speed of 415 km/s fly away?\n",
      "YES!\n",
      "Does satelite with speed of 416 km/s fly away?\n",
      "YES!\n",
      "Does satelite with speed of 417 km/s fly away?\n",
      "YES!\n",
      "Does satelite with speed of 418 km/s fly away?\n",
      "YES!\n",
      "Does satelite with speed of 419 km/s fly away?\n",
      "YES!\n",
      "Does satelite with speed of 420 km/s fly away?\n",
      "YES!\n",
      "Does satelite with speed of 421 km/s fly away?\n",
      "YES!\n",
      "Does satelite with speed of 422 km/s fly away?\n",
      "YES!\n",
      "Does satelite with speed of 423 km/s fly away?\n",
      "YES!\n",
      "Does satelite with speed of 424 km/s fly away?\n",
      "YES!\n",
      "Does satelite with speed of 425 km/s fly away?\n",
      "YES!\n",
      "Does satelite with speed of 426 km/s fly away?\n",
      "YES!\n",
      "Does satelite with speed of 427 km/s fly away?\n",
      "YES!\n",
      "Does satelite with speed of 428 km/s fly away?\n",
      "YES!\n",
      "Does satelite with speed of 429 km/s fly away?\n",
      "YES!\n",
      "Does satelite with speed of 430 km/s fly away?\n",
      "YES!\n",
      "Does satelite with speed of 431 km/s fly away?\n",
      "YES!\n",
      "Does satelite with speed of 432 km/s fly away?\n",
      "YES!\n",
      "Does satelite with speed of 433 km/s fly away?\n",
      "YES!\n",
      "Does satelite with speed of 434 km/s fly away?\n",
      "YES!\n",
      "Does satelite with speed of 435 km/s fly away?\n",
      "YES!\n",
      "Does satelite with speed of 436 km/s fly away?\n",
      "YES!\n",
      "Does satelite with speed of 437 km/s fly away?\n",
      "YES!\n",
      "Does satelite with speed of 438 km/s fly away?\n",
      "YES!\n",
      "Does satelite with speed of 439 km/s fly away?\n",
      "YES!\n",
      "Does satelite with speed of 440 km/s fly away?\n",
      "YES!\n",
      "Does satelite with speed of 441 km/s fly away?\n",
      "YES!\n",
      "Does satelite with speed of 442 km/s fly away?\n"
     ]
    },
    {
     "name": "stdout",
     "output_type": "stream",
     "text": [
      "YES!\n",
      "Does satelite with speed of 443 km/s fly away?\n",
      "YES!\n",
      "Does satelite with speed of 444 km/s fly away?\n",
      "YES!\n",
      "Does satelite with speed of 445 km/s fly away?\n",
      "YES!\n",
      "Does satelite with speed of 446 km/s fly away?\n",
      "YES!\n",
      "Does satelite with speed of 447 km/s fly away?\n",
      "YES!\n",
      "Does satelite with speed of 448 km/s fly away?\n",
      "YES!\n",
      "Does satelite with speed of 449 km/s fly away?\n",
      "YES!\n",
      "Does satelite with speed of 450 km/s fly away?\n",
      "YES!\n",
      "Does satelite with speed of 451 km/s fly away?\n",
      "YES!\n",
      "Does satelite with speed of 452 km/s fly away?\n",
      "YES!\n",
      "Does satelite with speed of 453 km/s fly away?\n",
      "YES!\n",
      "Does satelite with speed of 454 km/s fly away?\n",
      "YES!\n",
      "Does satelite with speed of 455 km/s fly away?\n",
      "YES!\n",
      "Does satelite with speed of 456 km/s fly away?\n",
      "YES!\n",
      "Does satelite with speed of 457 km/s fly away?\n",
      "YES!\n",
      "Does satelite with speed of 458 km/s fly away?\n",
      "YES!\n",
      "Does satelite with speed of 459 km/s fly away?\n",
      "YES!\n",
      "Does satelite with speed of 460 km/s fly away?\n",
      "YES!\n",
      "Does satelite with speed of 461 km/s fly away?\n",
      "YES!\n",
      "Does satelite with speed of 462 km/s fly away?\n",
      "YES!\n",
      "Does satelite with speed of 463 km/s fly away?\n",
      "YES!\n",
      "Does satelite with speed of 464 km/s fly away?\n",
      "YES!\n",
      "Does satelite with speed of 465 km/s fly away?\n",
      "YES!\n",
      "Does satelite with speed of 466 km/s fly away?\n",
      "YES!\n",
      "Does satelite with speed of 467 km/s fly away?\n",
      "YES!\n",
      "Does satelite with speed of 468 km/s fly away?\n",
      "YES!\n",
      "Does satelite with speed of 469 km/s fly away?\n",
      "YES!\n",
      "Does satelite with speed of 470 km/s fly away?\n",
      "YES!\n",
      "Does satelite with speed of 471 km/s fly away?\n",
      "YES!\n",
      "Does satelite with speed of 472 km/s fly away?\n",
      "YES!\n",
      "Does satelite with speed of 473 km/s fly away?\n",
      "YES!\n",
      "Does satelite with speed of 474 km/s fly away?\n",
      "YES!\n",
      "Does satelite with speed of 475 km/s fly away?\n",
      "YES!\n",
      "Does satelite with speed of 476 km/s fly away?\n",
      "YES!\n",
      "Does satelite with speed of 477 km/s fly away?\n",
      "YES!\n",
      "Does satelite with speed of 478 km/s fly away?\n",
      "YES!\n",
      "Does satelite with speed of 479 km/s fly away?\n",
      "YES!\n",
      "Does satelite with speed of 480 km/s fly away?\n",
      "YES!\n",
      "Does satelite with speed of 481 km/s fly away?\n",
      "YES!\n",
      "Does satelite with speed of 482 km/s fly away?\n",
      "YES!\n",
      "Does satelite with speed of 483 km/s fly away?\n",
      "YES!\n",
      "Does satelite with speed of 484 km/s fly away?\n",
      "YES!\n",
      "Does satelite with speed of 485 km/s fly away?\n",
      "YES!\n",
      "Does satelite with speed of 486 km/s fly away?\n",
      "YES!\n",
      "Does satelite with speed of 487 km/s fly away?\n",
      "YES!\n",
      "Does satelite with speed of 488 km/s fly away?\n",
      "YES!\n",
      "Does satelite with speed of 489 km/s fly away?\n",
      "YES!\n",
      "Does satelite with speed of 490 km/s fly away?\n",
      "YES!\n",
      "Does satelite with speed of 491 km/s fly away?\n",
      "YES!\n",
      "Does satelite with speed of 492 km/s fly away?\n",
      "YES!\n",
      "Does satelite with speed of 493 km/s fly away?\n",
      "YES!\n",
      "Does satelite with speed of 494 km/s fly away?\n",
      "YES!\n",
      "Does satelite with speed of 495 km/s fly away?\n",
      "YES!\n",
      "Does satelite with speed of 496 km/s fly away?\n",
      "YES!\n",
      "Does satelite with speed of 497 km/s fly away?\n",
      "YES!\n",
      "Does satelite with speed of 498 km/s fly away?\n",
      "YES!\n",
      "Does satelite with speed of 499 km/s fly away?\n",
      "YES!\n"
     ]
    }
   ],
   "source": [
    "xSatel, ySatel = r, 0\n",
    "\n",
    "mSatel = 10\n",
    "mPlanet = 9.81 / G * r * r\n",
    "nPlanets = 1\n",
    "\n",
    "planets = [[0, 0] for i in range(nPlanets)]\n",
    "\n",
    "_curX = xSatel\n",
    "_curY = ySatel\n",
    "\n",
    "print(\"Required time:\")\n",
    "time = int(input())\n",
    "_curVx = 0\n",
    "\n",
    "for _curVy in range(5, 500):\n",
    "    print(\"Does satelite with speed of %d km/s fly away?\" % _curVy)\n",
    "    tripTest(_curVx, _curVy, _curX, _curY, mPlanet, mSatel, planets, time, nPlanets)\n"
   ]
  },
  {
   "cell_type": "markdown",
   "metadata": {},
   "source": [
    "# 353 km/s\n",
    "That's not close to real, you know. Sad, but I'm sure it's accuracy problem."
   ]
  },
  {
   "cell_type": "markdown",
   "metadata": {},
   "source": [
    "# Task 6"
   ]
  },
  {
   "cell_type": "markdown",
   "metadata": {},
   "source": [
    "#### a"
   ]
  },
  {
   "cell_type": "code",
   "execution_count": 105,
   "metadata": {},
   "outputs": [
    {
     "data": {
      "image/png": "[encoded data removed]",
      "text/plain": [
       "<Figure size 432x288 with 1 Axes>"
      ]
     },
     "metadata": {
      "needs_background": "light"
     },
     "output_type": "display_data"
    }
   ],
   "source": [
    "def foo(x):\n",
    "    return -x * x * x / 3 + 16 * x\n",
    "graph1(foo)"
   ]
  }
 ],
 "metadata": {
  "kernelspec": {
   "display_name": "Python 3",
   "language": "python",
   "name": "python3"
  },
  "language_info": {
   "codemirror_mode": {
    "name": "ipython",
    "version": 3
   },
   "file_extension": ".py",
   "mimetype": "text/x-python",
   "name": "python",
   "nbconvert_exporter": "python",
   "pygments_lexer": "ipython3",
   "version": "3.5.2"
  }
 },
 "nbformat": 4,
 "nbformat_minor": 2
}
